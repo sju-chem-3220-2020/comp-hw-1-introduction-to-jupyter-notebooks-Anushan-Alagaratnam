{
 "cells": [
  {
   "cell_type": "code",
   "execution_count": null,
   "metadata": {},
   "outputs": [],
   "source": []
  },
  {
   "cell_type": "code",
   "execution_count": 1,
   "metadata": {},
   "outputs": [
    {
     "data": {
      "text/plain": [
       "3606"
      ]
     },
     "execution_count": 1,
     "metadata": {},
     "output_type": "execute_result"
    }
   ],
   "source": [
    "123+3483\n"
   ]
  },
  {
   "cell_type": "code",
   "execution_count": 2,
   "metadata": {},
   "outputs": [
    {
     "data": {
      "text/plain": [
       "880202"
      ]
     },
     "execution_count": 2,
     "metadata": {},
     "output_type": "execute_result"
    }
   ],
   "source": [
    "23454+856748\n"
   ]
  },
  {
   "cell_type": "code",
   "execution_count": 3,
   "metadata": {},
   "outputs": [
    {
     "name": "stdout",
     "output_type": "stream",
     "text": [
      "Hello World\n"
     ]
    }
   ],
   "source": [
    "print(\"Hello World\")"
   ]
  },
  {
   "cell_type": "code",
   "execution_count": 4,
   "metadata": {},
   "outputs": [
    {
     "name": "stdout",
     "output_type": "stream",
     "text": [
      "8\n"
     ]
    }
   ],
   "source": [
    "# This is a comment on python\n",
    "\n",
    "# Set a variable \n",
    "x=1+7\n",
    "\n",
    "# print the result of the variable \n",
    "print(x)"
   ]
  },
  {
   "cell_type": "code",
   "execution_count": 6,
   "metadata": {},
   "outputs": [
    {
     "name": "stdout",
     "output_type": "stream",
     "text": [
      " Hello World, iteration 1\n",
      " Hello World, iteration 2\n",
      " Hello World, iteration 3\n"
     ]
    }
   ],
   "source": [
    "# This is an example of a loop\n",
    "\n",
    "# The colon is required on the first line\n",
    "\n",
    "for i in(1,2,3):\n",
    "    # this indentation is required for loops\n",
    "    print(\" Hello World, iteration\",i)"
   ]
  },
  {
   "cell_type": "code",
   "execution_count": 12,
   "metadata": {},
   "outputs": [
    {
     "name": "stdout",
     "output_type": "stream",
     "text": [
      "Hello world, iteration -3\n",
      "Hello world, iteration -2\n",
      "Hello world, iteration -1\n",
      "Hello world, iteration 0\n",
      "Hello world, iteration 1\n",
      "Hello world, iteration 2\n"
     ]
    }
   ],
   "source": [
    "for i in range (-3,3):\n",
    "    print(\"Hello world, iteration\",i)\n",
    "    \n"
   ]
  },
  {
   "cell_type": "code",
   "execution_count": 11,
   "metadata": {},
   "outputs": [
    {
     "name": "stdout",
     "output_type": "stream",
     "text": [
      "Hello World, iteration -3\n",
      "Hello World, iteration -2\n",
      "Hello World, iteration -1\n",
      "Hello World, iteration 0\n",
      "Hello World, iteration 1\n",
      "Hello World, iteration 2\n"
     ]
    }
   ],
   "source": [
    "for i in range(-3,3):\n",
    "    print (\"Hello World, iteration\",i)"
   ]
  },
  {
   "cell_type": "code",
   "execution_count": 13,
   "metadata": {},
   "outputs": [
    {
     "name": "stdout",
     "output_type": "stream",
     "text": [
      "the number is positive\n"
     ]
    }
   ],
   "source": [
    "a=100\n",
    "\n",
    "if (a>0):\n",
    "    print(\"the number is positive\")\n",
    "    \n",
    "elif (a<0):\n",
    "    print(\"the number is negative\")\n",
    "    \n",
    "elif (a==0):\n",
    "    print(\"the number is zero\")"
   ]
  },
  {
   "cell_type": "code",
   "execution_count": 14,
   "metadata": {},
   "outputs": [
    {
     "name": "stdout",
     "output_type": "stream",
     "text": [
      "the number is zero\n"
     ]
    }
   ],
   "source": [
    "a=0\n",
    "if (a>0):\n",
    "    print(\"the number is positive\")\n",
    "    \n",
    "elif (a<0):\n",
    "    print(\"the number is negative\")\n",
    "    \n",
    "elif (a==0):\n",
    "    print(\"the number is zero\")"
   ]
  },
  {
   "cell_type": "code",
   "execution_count": 16,
   "metadata": {},
   "outputs": [
    {
     "name": "stdout",
     "output_type": "stream",
     "text": [
      "iteration -1\n",
      "iteration 0\n",
      "zero\n",
      "iteration 1\n"
     ]
    }
   ],
   "source": [
    "for i in range (-1,2):\n",
    "    print (\"iteration\",i)\n",
    "    if (i==0):\n",
    "        print(\"zero\")"
   ]
  },
  {
   "cell_type": "code",
   "execution_count": 17,
   "metadata": {},
   "outputs": [
    {
     "name": "stdout",
     "output_type": "stream",
     "text": [
      "iteration -10\n",
      "the number is negative\n",
      "iteration -9\n",
      "the number is negative\n",
      "iteration -8\n",
      "the number is negative\n",
      "iteration -7\n",
      "the number is negative\n",
      "iteration -6\n",
      "the number is negative\n",
      "iteration -5\n",
      "the number is negative\n",
      "iteration -4\n",
      "the number is negative\n",
      "iteration -3\n",
      "the number is negative\n",
      "iteration -2\n",
      "the number is negative\n",
      "iteration -1\n",
      "the number is negative\n",
      "iteration 0\n",
      "the number is zero\n",
      "iteration 1\n",
      "the number is positive\n",
      "iteration 2\n",
      "the number is positive\n",
      "iteration 3\n",
      "the number is positive\n",
      "iteration 4\n",
      "the number is positive\n",
      "iteration 5\n",
      "the number is positive\n",
      "iteration 6\n",
      "the number is positive\n",
      "iteration 7\n",
      "the number is positive\n",
      "iteration 8\n",
      "the number is positive\n",
      "iteration 9\n",
      "the number is positive\n"
     ]
    }
   ],
   "source": [
    "for i in range (-10,10):\n",
    "    print (\"iteration\",i)\n",
    "    if(i>0):\n",
    "        print(\"the number is positive\")\n",
    "    elif(i<0):\n",
    "        print(\"the number is negative\")\n",
    "    elif(i==0):\n",
    "        print( \"the number is zero\")"
   ]
  },
  {
   "cell_type": "code",
   "execution_count": null,
   "metadata": {},
   "outputs": [],
   "source": []
  }
 ],
 "metadata": {
  "kernelspec": {
   "display_name": "Python 3",
   "language": "python",
   "name": "python3"
  },
  "language_info": {
   "codemirror_mode": {
    "name": "ipython",
    "version": 3
   },
   "file_extension": ".py",
   "mimetype": "text/x-python",
   "name": "python",
   "nbconvert_exporter": "python",
   "pygments_lexer": "ipython3",
   "version": "3.7.6"
  }
 },
 "nbformat": 4,
 "nbformat_minor": 4
}
